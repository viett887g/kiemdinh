{
  "nbformat": 4,
  "nbformat_minor": 0,
  "metadata": {
    "colab": {
      "name": "kiemdinhz.ipynb",
      "provenance": [],
      "authorship_tag": "ABX9TyNf5WGghI7Bn8DM1cWuOzhI",
      "include_colab_link": true
    },
    "kernelspec": {
      "name": "python3",
      "display_name": "Python 3"
    },
    "language_info": {
      "name": "python"
    }
  },
  "cells": [
    {
      "cell_type": "markdown",
      "metadata": {
        "id": "view-in-github",
        "colab_type": "text"
      },
      "source": [
        "<a href=\"https://colab.research.google.com/github/viett887g/kiemdinh/blob/main/kiemdinhz.ipynb\" target=\"_parent\"><img src=\"https://colab.research.google.com/assets/colab-badge.svg\" alt=\"Open In Colab\"/></a>"
      ]
    },
    {
      "cell_type": "code",
      "execution_count": 1,
      "metadata": {
        "id": "DswMSFSN_tcb"
      },
      "outputs": [],
      "source": [
        "import random"
      ]
    },
    {
      "cell_type": "code",
      "source": [
        "import numpy as np\n",
        "import scipy.stats as stats\n",
        "from statsmodels.stats.weightstats import ztest as ztest"
      ],
      "metadata": {
        "id": "WwadvnHg_vwm",
        "colab": {
          "base_uri": "https://localhost:8080/"
        },
        "outputId": "cefffb33-17c7-425e-986c-608c430f1110"
      },
      "execution_count": 2,
      "outputs": [
        {
          "output_type": "stream",
          "name": "stderr",
          "text": [
            "/usr/local/lib/python3.7/dist-packages/statsmodels/tools/_testing.py:19: FutureWarning: pandas.util.testing is deprecated. Use the functions in the public API at pandas.testing instead.\n",
            "  import pandas.util.testing as tm\n"
          ]
        }
      ]
    },
    {
      "cell_type": "code",
      "source": [
        "def z_test(data1, data2, mean, alpha, tail):\n",
        "    \n",
        "    data = ztest(x1 = data1, x2 = data2, value = mean, alternative = tail) #alternative (default: 'two-sided', 'smaller', 'larger')\n",
        "    if data[1] > alpha:\n",
        "        print(\"Bởi vì giá trị p = {} lớn hơn mức ý nghĩa là {} nên ta không thể bác bỏ giả thuyết H_o\".format(data[1],alpha))\n",
        "    else:\n",
        "        print(\"Vì p = {} bé hơn mức ý nghĩa là {} nên đủ điều kiện để bác bỏ giả thuyết H_o\".format(data[1],alpha))\n",
        "        \n",
        "    return data"
      ],
      "metadata": {
        "id": "SuVLL7JAApHP"
      },
      "execution_count": 3,
      "outputs": []
    },
    {
      "cell_type": "code",
      "source": [
        "def t_test(data, sample_mean, alpha):\n",
        "    \n",
        "    data = stats.ttest_1samp(data, sample_mean) #alternative (default: 'two-sided', 'less', 'greater')\n",
        "    \n",
        "    if data[1] > alpha:\n",
        "        print(\"Vì giá trị p = {} lớn hơn mức ý nghĩa là {} nên ta không thể bác bỏ giả thuyết H_o\".format(data[1],alpha))\n",
        "    else:\n",
        "        print(\"Vì p = {} bé hơn mức ý nghĩa là {} nên đủ điều kiện để bác bỏ giả thuyết H_o\".format(data[1],alpha))\n",
        "    \n",
        "    return data"
      ],
      "metadata": {
        "id": "PmUPYMaK-vIn"
      },
      "execution_count": 4,
      "outputs": []
    },
    {
      "cell_type": "markdown",
      "source": [
        "Bài 1: You’re a Q/C inspector for Gallo. The sample standard deviation for 2-liter bottles is .05 liters. A random sample of 100 bottles showed sasmple mean = 1.99 liters. What is the 90% confidence interval estimate of the true mean amount in 2-liter bottles?\n",
        "\n",
        "Xây dựng giả thuyết\n",
        "\n",
        "$$H_{0}: \\mu = 2l$$\n",
        "\n",
        "Giả thuyết thay thế: \n",
        "\n",
        "$$H_{a}: \\mu \\neq 2l$$\n",
        "\n",
        "Sinh mẫu ngẫu nhiên gồm 100 phần tử có trung bình mẫu là 1.99, độ lệch chuẩn là 0.05"
      ],
      "metadata": {
        "id": "FsqMnuyQ79Ea"
      }
    },
    {
      "cell_type": "code",
      "source": [
        "mean = 2\n",
        "std = 0.05\n",
        "size = 100\n",
        "\n",
        "sample_mean = 1.99\n",
        "do_tin_cay = round(1-(90/100), 1)\n",
        "\n",
        "\n",
        "np.random.seed(0)\n",
        "data = np.random.normal(loc = sample_mean, scale = std, size = size)\n",
        "\n",
        "z_test(data, None, mean, alpha, 'two-sided')"
      ],
      "metadata": {
        "colab": {
          "base_uri": "https://localhost:8080/"
        },
        "id": "eK9UHxKK7-Xx",
        "outputId": "047bb9c4-ec5b-4617-f475-089de068e517"
      },
      "execution_count": null,
      "outputs": [
        {
          "output_type": "stream",
          "name": "stdout",
          "text": [
            "Bởi vì giá trị p = 0.16636343519226293 lớn hơn mức ý nghĩa là 0.01 nên ta không thể bác bỏ giả thuyết H_o\n"
          ]
        },
        {
          "output_type": "execute_result",
          "data": {
            "text/plain": [
              "(-1.3839837347810204, 0.16636343519226293)"
            ]
          },
          "metadata": {},
          "execution_count": 47
        }
      ]
    },
    {
      "cell_type": "markdown",
      "source": [
        "Bài 2: Bạn là một nhà phân tích nghiên cứu thời gian trong lĩnh vực sản xuất. Bạn đã ghi lại thời gian tác vụ sau (tối thiểu): 3.6, 4.2, 4.0, 3.5, 3.8, 3.1. Ước tính khoảng tin cậy 90% của thời gian thực hiện nhiệm vụ trung bình của tổng thể là bao nhiêu?\n",
        "\n",
        "Xây dựng giả thuyết\n",
        "\n",
        "$$H_{0}: \\mu = 3.7min$$\n",
        "\n",
        "Giả thuyết thay thế: \n",
        "\n",
        "$$H_{a}: \\mu \\neq 3.7min$$\n",
        "\n",
        "Với khoảng tin cậy 90%, cỡ mẫu < 30 nên ta thực hiện kiểm định t"
      ],
      "metadata": {
        "id": "LftyIO4G8UOj"
      }
    },
    {
      "cell_type": "code",
      "source": [
        "data = (3.6, 4.2, 4.0, 3.5, 3.8, 3.1)\n",
        "\n",
        "mean = np.mean(data)\n",
        "print(\"Giả thuyết H_0 ở đây là trung bình thời gian hoàn thành một tác vụ = {} min\".format(round(mean,2)))\n",
        "alpha = round(1-(90/100),1)\n",
        "\n",
        "t_test(data, mean, alpha)"
      ],
      "metadata": {
        "colab": {
          "base_uri": "https://localhost:8080/"
        },
        "id": "Fp6Io1OmwBTY",
        "outputId": "c41eacfb-5d02-4aa3-db34-de51ea82ffdf"
      },
      "execution_count": null,
      "outputs": [
        {
          "output_type": "stream",
          "name": "stdout",
          "text": [
            "Giả thuyết H_0 ở đây là trung bình thời gian hoàn thành một tác vụ = 3.7 min\n",
            "Vì giá trị p = 1.0 lớn hơn mức ý nghĩa là 0.1 nên ta không thể bác bỏ giả thuyết H_o\n"
          ]
        },
        {
          "output_type": "execute_result",
          "data": {
            "text/plain": [
              "Ttest_1sampResult(statistic=0.0, pvalue=1.0)"
            ]
          },
          "metadata": {},
          "execution_count": 35
        }
      ]
    },
    {
      "cell_type": "markdown",
      "source": [
        "Bài 3: Một hộp cốm trung bình có 368 gam cốm? Một mẫu ngẫu nhiên gồm 25 hộp có x¯¯¯ = 372,5. Công ty đã quy định σ là 25 gram. Kiểm định ở mức ý nghĩa .05.\n",
        "Xây dựng giả thuyết\n",
        "\n",
        "$$𝐻0:𝜇=368𝑔𝑟𝑎𝑚𝑠$$\n",
        " \n",
        "Giả thuyết thay thế:\n",
        "\n",
        "$$𝐻𝑎:𝜇≠368𝑔𝑟𝑎𝑚𝑠$$\n",
        " \n",
        "Với mức  𝛼  = 0.05, cỡ mẫu < 30 nên ta thực hiện kiểm định t\n",
        "\n",
        "Sinh mẫu ngẫu nhiên gồm 25 phần tử có trung bình mẫu là 372.5, độ lệch chuẩn là 25"
      ],
      "metadata": {
        "id": "6txEKVccxMc8"
      }
    },
    {
      "cell_type": "code",
      "source": [
        "mean = 368\n",
        "sample_mean = 372.5\n",
        "size = 25\n",
        "std = 25\n",
        "alpha = 0.05\n",
        "\n",
        "np.random.seed(1)\n",
        "data = np.random.normal(loc = sample_mean, scale = std, size = size)\n",
        "\n",
        "t_test(data, mean, alpha)"
      ],
      "metadata": {
        "colab": {
          "base_uri": "https://localhost:8080/"
        },
        "id": "SZKhC7nx95Iy",
        "outputId": "af972d2e-6afa-4db1-84f5-7c9ea9f52f9e"
      },
      "execution_count": null,
      "outputs": [
        {
          "output_type": "stream",
          "name": "stdout",
          "text": [
            "Vì giá trị p = 0.4537136009759041 lớn hơn mức ý nghĩa là 0.05 nên ta không thể bác bỏ giả thuyết H_o\n"
          ]
        },
        {
          "output_type": "execute_result",
          "data": {
            "text/plain": [
              "Ttest_1sampResult(statistic=0.7616078161409491, pvalue=0.4537136009759041)"
            ]
          },
          "metadata": {},
          "execution_count": 36
        }
      ]
    },
    {
      "cell_type": "markdown",
      "source": [
        "Bài 4: Bạn là người kiểm tra Q / C. Bạn muốn tìm hiểu xem một chiếc máy mới có đang làm dây điện theo thông số kỹ thuật của khách hàng hay không: độ bền đứt trung bình là 70 lb. với σ = 3,5 lb. Bạn lấy mẫu 36 dây & tính giá trị trung bình mẫu là 69,7 lb. Tại 0,05 mức độ ý nghĩa, có bằng chứng cho thấy máy không đạt độ bền đứt trung bình không?"
      ],
      "metadata": {
        "id": "qBikx0g6Sxar"
      }
    },
    {
      "cell_type": "code",
      "source": [
        "mean=70\n",
        "std=3.5\n",
        "sample_mean=69.7\n",
        "size=36\n",
        "alpha=0.05\n",
        "data = np.random.normal(loc = sample_mean, scale = std, size = size)\n",
        "z_test(data, None, mean, alpha, 'two-sided')"
      ],
      "metadata": {
        "colab": {
          "base_uri": "https://localhost:8080/"
        },
        "id": "48f5-NUBSymL",
        "outputId": "88886f8d-e4b5-4615-9c64-c3d159cb74e2"
      },
      "execution_count": null,
      "outputs": [
        {
          "output_type": "stream",
          "name": "stdout",
          "text": [
            "Bởi vì giá trị p = 0.5353718639527265 lớn hơn mức ý nghĩa là 0.05 nên ta không thể bác bỏ giả thuyết H_o\n"
          ]
        },
        {
          "output_type": "execute_result",
          "data": {
            "text/plain": [
              "(-0.6198267368678623, 0.5353718639527265)"
            ]
          },
          "metadata": {},
          "execution_count": 40
        }
      ]
    },
    {
      "cell_type": "markdown",
      "source": [
        "\n",
        "Bài 5: Trung bình một hộp cốm có nhiều hơn 368 gam cốm? Một mẫu ngẫu nhiên gồm 25 hộp cho thấy x¯¯¯ = 372,5. Công ty đã quy định σ là 25 gram. Kiểm định ở mức ý nghĩa .05."
      ],
      "metadata": {
        "id": "WQHbMfaEYyLB"
      }
    },
    {
      "cell_type": "code",
      "source": [
        "mean= 368\n",
        "size=25\n",
        "sample_mean= 372.5\n",
        "std=25\n",
        "alpha=0.05\n",
        "data = np.random.normal(loc = sample_mean, scale = std, size = size)\n",
        "t_test(data, mean, alpha)\n"
      ],
      "metadata": {
        "colab": {
          "base_uri": "https://localhost:8080/"
        },
        "id": "V87iRcamYy9J",
        "outputId": "06f7caef-dca3-49a6-a094-05b126048954"
      },
      "execution_count": null,
      "outputs": [
        {
          "output_type": "stream",
          "name": "stdout",
          "text": [
            "Vì p = 0.016293867259598183 bé hơn mức ý nghĩa là 0.05 nên đủ điều kiện để bác bỏ giả thuyết H_o\n"
          ]
        },
        {
          "output_type": "execute_result",
          "data": {
            "text/plain": [
              "Ttest_1sampResult(statistic=2.583680255561858, pvalue=0.016293867259598183)"
            ]
          },
          "metadata": {},
          "execution_count": 48
        }
      ]
    },
    {
      "cell_type": "markdown",
      "source": [
        "Bài 6: Bạn là nhà phân tích của Ford. Bạn muốn tìm hiểu xem liệu số dặm trung bình trên một gallon của Hộ tống đạt tối thiểu là 32 mpg hay không. Các mô hình tương tự có độ lệch chuẩn là 3,8 mpg. Bạn lấy mẫu 60 Escorts và tính giá trị trung bình mẫu là 30,7 mpg. Với mức ý nghĩa 0,01, có bằng chứng nào cho thấy dặm trên gallon nhỏ hơn 32 không?"
      ],
      "metadata": {
        "id": "L6KKpokAavop"
      }
    },
    {
      "cell_type": "code",
      "source": [
        "mean= 32\n",
        "size = 60\n",
        "std= 3.8\n",
        "sample_mean=30.7\n",
        "alpha=0.01\n",
        "data = np.random.normal(loc = sample_mean, scale = std, size = size)\n",
        "z_test(data, None, mean, alpha, 'smaller')\n"
      ],
      "metadata": {
        "colab": {
          "base_uri": "https://localhost:8080/"
        },
        "id": "DK3qp0xKaz6Y",
        "outputId": "0a63d8aa-1b78-49f1-c1db-19c478202731"
      },
      "execution_count": null,
      "outputs": [
        {
          "output_type": "stream",
          "name": "stdout",
          "text": [
            "Vì p = 0.003969920407753756 bé hơn mức ý nghĩa là 0.01 nên đủ điều kiện để bác bỏ giả thuyết H_o\n"
          ]
        },
        {
          "output_type": "execute_result",
          "data": {
            "text/plain": [
              "(-2.654617389945773, 0.003969920407753756)"
            ]
          },
          "metadata": {},
          "execution_count": 51
        }
      ]
    },
    {
      "cell_type": "markdown",
      "source": [
        "\n",
        "Bài 7: Một hộp cốm trung bình có 368 gam cốm? Một mẫu ngẫu nhiên gồm 25 hộp cho thấy x¯¯¯ = 372,5. Công ty đã quy định σ là 15 gam. Tìm giá trị p."
      ],
      "metadata": {
        "id": "apZyVRtRdMb_"
      }
    },
    {
      "cell_type": "code",
      "source": [
        "mean= 368\n",
        "size= 25\n",
        "sample_mean=372.5\n",
        "std=15\n",
        "data = np.random.normal(loc = sample_mean, scale = std, size = size)\n",
        "p_value =  stats.ttest_1samp(data, sample_mean)[1]\n",
        "print(f\"P_value is: {p_value}\")"
      ],
      "metadata": {
        "colab": {
          "base_uri": "https://localhost:8080/"
        },
        "id": "mPEPSFAodNSP",
        "outputId": "91d46e43-b4e9-45b9-a7a4-ebd904da9660"
      },
      "execution_count": null,
      "outputs": [
        {
          "output_type": "stream",
          "name": "stdout",
          "text": [
            "P_value is: 0.52291992355422\n"
          ]
        }
      ]
    },
    {
      "cell_type": "markdown",
      "source": [
        "Bài 8: Trung bình một hộp cốm có nhiều hơn 368 gam cốm? Một mẫu ngẫu nhiên gồm 25 hộp cho thấy x¯¯¯ = 372,5. Công ty đã quy định σ là 15 gam. Tìm giá trị p."
      ],
      "metadata": {
        "id": "f4Zhfxj5fBF-"
      }
    },
    {
      "cell_type": "code",
      "source": [
        "mean= 368\n",
        "size= 25\n",
        "sample_mean=372.5\n",
        "std=15\n",
        "data = np.random.normal(loc = sample_mean, scale = std, size = size)\n",
        "p_value =  stats.ttest_1samp(data, sample_mean)[1]\n",
        "print(f\"P_value is: {p_value}\")"
      ],
      "metadata": {
        "colab": {
          "base_uri": "https://localhost:8080/"
        },
        "id": "R7aq_EfbfHLW",
        "outputId": "89f0e8e2-9625-44fe-f699-a47e476247b6"
      },
      "execution_count": null,
      "outputs": [
        {
          "output_type": "stream",
          "name": "stdout",
          "text": [
            "P_value is: 0.18556264772291892\n"
          ]
        }
      ]
    },
    {
      "cell_type": "markdown",
      "source": [
        "\n",
        "Bài 9: Bạn là nhà phân tích của Ford. Bạn muốn tìm hiểu xem số dặm trung bình trên mỗi gallon của Hộ tống đạt có nhỏ hơn 32 mpg hay không. Các mô hình tương tự có độ lệch chuẩn là 3,8 mpg. Bạn lấy mẫu 60 Escorts và tính giá trị trung bình mẫu là 30,7 mpg. Giá trị của mức ý nghĩa quan sát (p-Value) là bao nhiêu?"
      ],
      "metadata": {
        "id": "qcS5Qriqf3Ql"
      }
    },
    {
      "cell_type": "code",
      "source": [
        "std=3.8\n",
        "size=60\n",
        "sample_mean=30.7\n",
        "mean=32\n",
        "alpha=3.8\n",
        "data = np.random.normal(loc = sample_mean, scale = std, size = size)\n",
        "z_test(data, None, mean, alpha, 'two-sided')"
      ],
      "metadata": {
        "colab": {
          "base_uri": "https://localhost:8080/"
        },
        "id": "fsCwY5Btf8hc",
        "outputId": "73906853-b4ec-44cd-c7f7-bd7d122553e0"
      },
      "execution_count": 7,
      "outputs": [
        {
          "output_type": "stream",
          "name": "stdout",
          "text": [
            "Vì p = 0.0012331268239656318 bé hơn mức ý nghĩa là 3.8 nên đủ điều kiện để bác bỏ giả thuyết H_o\n"
          ]
        },
        {
          "output_type": "execute_result",
          "data": {
            "text/plain": [
              "(-3.2311048823144586, 0.0012331268239656318)"
            ]
          },
          "metadata": {},
          "execution_count": 7
        }
      ]
    },
    {
      "cell_type": "markdown",
      "source": [
        "Bài 10: Một hộp cốm trung bình có 368 gam cốm? Một mẫu ngẫu nhiên gồm 36 hộp có giá trị trung bình là 372,5 và độ lệch chuẩn là 12 gam. Kiểm định ở mức ý nghĩa .05."
      ],
      "metadata": {
        "id": "qQEukFau5i-x"
      }
    },
    {
      "cell_type": "code",
      "source": [
        "alpha=0.05\n",
        "sample_mean=372.5\n",
        "std=12\n",
        "mean=368\n",
        "size=36\n",
        "data = np.random.normal(loc = sample_mean, scale = std, size = size)\n",
        "z_test(data, None, mean, alpha, 'two-sided')"
      ],
      "metadata": {
        "colab": {
          "base_uri": "https://localhost:8080/"
        },
        "id": "C98mBclM5j0a",
        "outputId": "c199d462-6ab0-4542-960e-aed3bda71a83"
      },
      "execution_count": 8,
      "outputs": [
        {
          "output_type": "stream",
          "name": "stdout",
          "text": [
            "Bởi vì giá trị p = 0.22360583496152386 lớn hơn mức ý nghĩa là 0.05 nên ta không thể bác bỏ giả thuyết H_o\n"
          ]
        },
        {
          "output_type": "execute_result",
          "data": {
            "text/plain": [
              "(1.2169957445295065, 0.22360583496152386)"
            ]
          },
          "metadata": {},
          "execution_count": 8
        }
      ]
    },
    {
      "cell_type": "markdown",
      "source": [
        "Bạn làm việc cho FTC. Một nhà sản xuất chất tẩy rửa tuyên bố rằng trọng lượng trung bình của chất tẩy rửa là 3,25 lb. Bạn lấy một mẫu ngẫu nhiên gồm 64 thùng chứa. Bạn tính giá trị trung bình của mẫu là 3,238 lb. với độ lệch chuẩn là 0,117 lb. Với mức ý nghĩa 0,01, nhà sản xuất có đúng không?"
      ],
      "metadata": {
        "id": "SR9Cz8986fqo"
      }
    },
    {
      "cell_type": "code",
      "source": [
        "mean=3.25\n",
        "size=64\n",
        "sample_mean=3.238\n",
        "std=0.1117\n",
        "alpha=0.01\n",
        "data = np.random.normal(loc = sample_mean, scale = std, size = size)\n",
        "z_test(data, None, mean, alpha, 'two-sided')\n",
        "\n"
      ],
      "metadata": {
        "colab": {
          "base_uri": "https://localhost:8080/"
        },
        "id": "NC_k94od6lTw",
        "outputId": "9749b6e8-e67d-4feb-b4c3-18e69dd616ea"
      },
      "execution_count": 9,
      "outputs": [
        {
          "output_type": "stream",
          "name": "stdout",
          "text": [
            "Bởi vì giá trị p = 0.2290790790729892 lớn hơn mức ý nghĩa là 0.01 nên ta không thể bác bỏ giả thuyết H_o\n"
          ]
        },
        {
          "output_type": "execute_result",
          "data": {
            "text/plain": [
              "(-1.202734499175617, 0.2290790790729892)"
            ]
          },
          "metadata": {},
          "execution_count": 9
        }
      ]
    },
    {
      "cell_type": "markdown",
      "source": [
        "Bài 12: Công suất trung bình của acquy nhỏ hơn 140 ampe-giờ? Một mẫu ngẫu nhiên gồm 20 pin có giá trị trung bình là 138,47 và độ lệch chuẩn là 2,66. Giả sử một phân phối chuẩn. Kiểm định ở mức ý nghĩa 0,05"
      ],
      "metadata": {
        "id": "z-7Xg8rX7VXl"
      }
    },
    {
      "cell_type": "code",
      "source": [
        "mean=140\n",
        "size=20\n",
        "sample_mean=138.47\n",
        "std=2.66\n",
        "alpha=0.05\n",
        "data = np.random.normal(loc = sample_mean, scale = std, size = size)\n",
        "t_test(data, mean, alpha)"
      ],
      "metadata": {
        "colab": {
          "base_uri": "https://localhost:8080/"
        },
        "id": "xUzGiqJb7Z3H",
        "outputId": "9cce458f-fc31-42d6-8403-750b20ec57b6"
      },
      "execution_count": 10,
      "outputs": [
        {
          "output_type": "stream",
          "name": "stdout",
          "text": [
            "Vì giá trị p = 0.06658150279243046 lớn hơn mức ý nghĩa là 0.05 nên ta không thể bác bỏ giả thuyết H_o\n"
          ]
        },
        {
          "output_type": "execute_result",
          "data": {
            "text/plain": [
              "Ttest_1sampResult(statistic=-1.9461326064865636, pvalue=0.06658150279243046)"
            ]
          },
          "metadata": {},
          "execution_count": 10
        }
      ]
    },
    {
      "cell_type": "markdown",
      "source": [
        "Bài 13: Bạn là nhà phân tích tiếp thị của Wal-Mart. Wal-Mart đã bán gấu bông vào tuần trước. Doanh thu hàng tuần của số gấu bán được ở 10 cửa hàng là: 8 11 0 4 7 8 10 5 8 3. Với mức ý nghĩa 0,05, có bằng chứng nào cho thấy doanh thu trung bình của mỗi cửa hàng là hơn 5 con không?\n"
      ],
      "metadata": {
        "id": "bmGUvFOL70Vu"
      }
    },
    {
      "cell_type": "code",
      "source": [
        "data = [8, 11, 0, 4, 7, 8, 10, 5, 8, 3]\n",
        "alpha = 0.05\n",
        "mean=np.mean(data)\n",
        "t_test(data, mean, alpha)"
      ],
      "metadata": {
        "colab": {
          "base_uri": "https://localhost:8080/"
        },
        "id": "9AbyA2_l75NN",
        "outputId": "e5e038e8-24bf-4a91-fa66-0a9e713769e7"
      },
      "execution_count": 23,
      "outputs": [
        {
          "output_type": "stream",
          "name": "stdout",
          "text": [
            "Vì giá trị p = 1.0 lớn hơn mức ý nghĩa là 0.05 nên ta không thể bác bỏ giả thuyết H_o\n"
          ]
        },
        {
          "output_type": "execute_result",
          "data": {
            "text/plain": [
              "Ttest_1sampResult(statistic=0.0, pvalue=1.0)"
            ]
          },
          "metadata": {},
          "execution_count": 23
        }
      ]
    }
  ]
}